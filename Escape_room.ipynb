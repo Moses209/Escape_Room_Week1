{
 "cells": [
  {
   "cell_type": "code",
   "execution_count": 5,
   "metadata": {},
   "outputs": [],
   "source": [
    "# Day 1: Create dictionaries and lists serving as game data structures."
   ]
  },
  {
   "cell_type": "code",
   "execution_count": null,
   "metadata": {},
   "outputs": [],
   "source": [
    "\"\"\"\n",
    "Defining all the necessary dictionaries for Escape Room objects.\n",
    "\n",
    "Listed dictionaries include:\n",
    "    1. Couch = couch\n",
    "    2. Bed = bed\n",
    "    3. Piano = piano\n",
    "    4. Dining Table = dining_table\n",
    "    7. Keys = key_A, key_C, key_D\n",
    "    8. Rooms = game_room, bedroom_1, bedroom_2, living_room, outside\n",
    "\"\"\"\n",
    "\n",
    "# Creating dictionaries\n",
    "couch = {'name': 'Couch', \n",
    "         'type': 'furniture'}\n",
    "\n",
    "piano = {'name': 'Piano',\n",
    "         'type': 'instrument'}\n",
    "game_room = {\"name\": \"Game Room\",\n",
    "             \"type\": \"room\"}\n",
    "key_A = {'name': 'Key A',\n",
    "         'type': 'key',\n",
    "         'target': 'Door A'}\n",
    "\n",
    "# Bedroom 2 \n",
    "bedroom_2 = {'name': 'Bedroom 2',\n",
    "             'type': 'room' }\n",
    "double_bed = {'name': 'Double Bed',\n",
    "       'type': 'furniture'}\n",
    "dresser = {'name': 'Dresser',\n",
    "           'type': 'furniture'}\n",
    "key_C = {'name': 'Key C',\n",
    "         'type': 'key',\n",
    "         'target': 'Door C'}\n",
    "key_D = {'name': 'Key D',\n",
    "         'type': 'key',\n",
    "         'target': 'Door D'}\n",
    "\n",
    "#Living Room \n",
    "\n",
    "living_room = {'name': 'Living Room',\n",
    "             'type': 'room' }  \n",
    "dining_table = {'name': 'Dining Table',\n",
    "       'type': 'furniture'}\n",
    "\n",
    "# Outside\n",
    "outside = {'name': 'Outside'}\n",
    "\n",
    "#Doors \n",
    "\n",
    "door_A = {'name': 'Door A',\n",
    "          'type': 'door',\n",
    "          'locked': True,\n",
    "          'key': 'key_A'}\n",
    "door_B= {'name': 'Door B',\n",
    "          'type': 'door',\n",
    "          'locked': True,\n",
    "          'key': 'key_B'}\n",
    "door_C = {'name': 'Door C',\n",
    "          'type': 'door',\n",
    "          'locked': True,\n",
    "          'key': 'key_C'}\n",
    "door_D = {'name': 'Door D',\n",
    "          'type': 'door',\n",
    "          'locked': True,\n",
    "          'key': 'key_D'}\n",
    "\n",
    "# Bedroom 1\n",
    "bedroom_1 ={'name': ''}\n",
    "\n",
    "\n"
   ]
  },
  {
   "cell_type": "code",
   "execution_count": 7,
   "metadata": {},
   "outputs": [],
   "source": [
    "\"\"\"\n",
    "since we define all the dictionaries\n",
    "\n",
    "\"\"\"\n",
    "#defining all room objects\n",
    "all_rooms = ['game_room', 'bedroom_1', 'bedroom_2', 'living_room', 'outside']\n",
    "all_doors= ['door_A', 'door_B','door_C', 'door_D']"
   ]
  },
  {
   "cell_type": "code",
   "execution_count": 10,
   "metadata": {},
   "outputs": [
    {
     "data": {
      "text/plain": [
       "['door_A', 'door_B', 'door_C', 'door_D']"
      ]
     },
     "execution_count": 10,
     "metadata": {},
     "output_type": "execute_result"
    }
   ],
   "source": [
    "all_doors"
   ]
  },
  {
   "cell_type": "code",
   "execution_count": null,
   "metadata": {},
   "outputs": [],
   "source": [
    "# Defining the relashion between the object and rooms\n",
    "object_relations = {\n",
    "    'game_room': [couch,piano,door_A],\n",
    "    'piano' :  [key_A],\n",
    "    'door_A': [game_room,bedroom_1],\n",
    "    'bedroom_2': [double_bed,dresser,door_B],\n",
    "    'double_bed': [key_C],\n",
    "    'dresser': [key_D],\n",
    "    'door_B': [bedroom_1,bedroom_2],\n",
    "    'living_room': [dining_table,door_C,door_D]\n",
    "    \n",
    "}"
   ]
  }
 ],
 "metadata": {
  "kernelspec": {
   "display_name": ".venv",
   "language": "python",
   "name": "python3"
  },
  "language_info": {
   "codemirror_mode": {
    "name": "ipython",
    "version": 3
   },
   "file_extension": ".py",
   "mimetype": "text/x-python",
   "name": "python",
   "nbconvert_exporter": "python",
   "pygments_lexer": "ipython3",
   "version": "3.12.3"
  }
 },
 "nbformat": 4,
 "nbformat_minor": 2
}
