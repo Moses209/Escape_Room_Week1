{
 "cells": [
  {
   "cell_type": "code",
   "execution_count": 1,
   "metadata": {},
   "outputs": [],
   "source": [
    "# Day 1: Create dictionaries and lists serving as game data structures."
   ]
  },
  {
   "cell_type": "code",
   "execution_count": null,
   "metadata": {},
   "outputs": [],
   "source": [
    "# Creating dictionaries\n",
    "couch = {'name': 'Couch', \n",
    "         'type': 'furniture'}\n",
    "\n",
    "piano = {'name': 'Piano',\n",
    "         'type': 'instrument'}\n",
    "game_room = {\"name\": \"Game Room\",\n",
    "             \"type\": \"room\"}\n",
    "key_A = {'name': 'Key A',\n",
    "         'type': 'key',\n",
    "         'target': 'Door A'}\n",
    "\n",
    "# Bedroom 2 \n",
    "bedroom_2 = {'name': 'Bedroom 2',\n",
    "             'type': 'room' }\n",
    "bed = {'name': 'Double Bed',\n",
    "       'type': 'furniture'}\n",
    "dresser = {'name': 'Dresser',\n",
    "           'type': 'furniture'}\n",
    "key_C = {'name': 'Key C',\n",
    "         'type': 'key',\n",
    "         'target': 'Door C'}\n",
    "key_D = {'name': 'Key D',\n",
    "         'type': 'key',\n",
    "         'target': 'Door D'}\n",
    "\n",
    "\n"
   ]
  },
  {
   "cell_type": "code",
   "execution_count": null,
   "metadata": {},
   "outputs": [],
   "source": []
  }
 ],
 "metadata": {
  "kernelspec": {
   "display_name": ".venv",
   "language": "python",
   "name": "python3"
  },
  "language_info": {
   "codemirror_mode": {
    "name": "ipython",
    "version": 3
   },
   "file_extension": ".py",
   "mimetype": "text/x-python",
   "name": "python",
   "nbconvert_exporter": "python",
   "pygments_lexer": "ipython3",
   "version": "3.12.3"
  }
 },
 "nbformat": 4,
 "nbformat_minor": 2
}
